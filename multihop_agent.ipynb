{
 "cells": [
  {
   "cell_type": "code",
   "execution_count": 30,
   "metadata": {},
   "outputs": [],
   "source": [
    "import dspy\n",
    "from dotenv import load_dotenv\n",
    "\n",
    "load_dotenv()\n",
    "\n",
    "lm = dspy.LM('openai/gpt-4o-mini', max_tokens=3000)\n",
    "\n",
    "gpt4o = dspy.LM('openai/gpt-4o', max_tokens=3000)\n",
    "\n",
    "gpt4o_mini = dspy.LM('gpt-4o-mini-2024-07-18')\n",
    "\n",
    "dspy.configure(lm=lm)"
   ]
  },
  {
   "cell_type": "markdown",
   "metadata": {},
   "source": [
    "# Download the data for retrieval"
   ]
  },
  {
   "cell_type": "code",
   "execution_count": 3,
   "metadata": {},
   "outputs": [
    {
     "name": "stdout",
     "output_type": "stream",
     "text": [
      "Downloading 'wiki.abstracts.2017.tar.gz'...\n"
     ]
    }
   ],
   "source": [
    "from dspy.utils import download\n",
    "\n",
    "download(\"https://huggingface.co/dspy/cache/resolve/main/wiki.abstracts.2017.tar.gz\")\n",
    "!tar -xzvf wiki.abstracts.2017.tar.gz"
   ]
  },
  {
   "cell_type": "markdown",
   "metadata": {},
   "source": [
    "## Load the corpus"
   ]
  },
  {
   "cell_type": "code",
   "execution_count": 6,
   "metadata": {},
   "outputs": [
    {
     "data": {
      "text/plain": [
       "5233330"
      ]
     },
     "execution_count": 6,
     "metadata": {},
     "output_type": "execute_result"
    }
   ],
   "source": [
    "import ujson\n",
    "corpus = []\n",
    "\n",
    "with open(\"wiki.abstracts.2017.jsonl\") as f:\n",
    "    for line in f:\n",
    "        line = ujson.loads(line)\n",
    "        corpus.append(f\"{line['title']} | {' '.join(line['text'])}\")\n",
    "\n",
    "len(corpus)"
   ]
  },
  {
   "cell_type": "markdown",
   "metadata": {},
   "source": [
    "## Index it for retrieval with BM25\n"
   ]
  },
  {
   "cell_type": "code",
   "execution_count": 7,
   "metadata": {},
   "outputs": [
    {
     "name": "stderr",
     "output_type": "stream",
     "text": [
      "                                                                                   \r"
     ]
    }
   ],
   "source": [
    "import bm25s\n",
    "import Stemmer\n",
    "\n",
    "stemmer = Stemmer.Stemmer(\"english\")\n",
    "corpus_tokens = bm25s.tokenize(corpus, stopwords=\"en\", stemmer=stemmer)\n",
    "\n",
    "retriever = bm25s.BM25(k1=0.9, b=0.4)\n",
    "retriever.index(corpus_tokens)"
   ]
  },
  {
   "cell_type": "markdown",
   "metadata": {},
   "source": [
    "# Load HoVer dataset for example"
   ]
  },
  {
   "cell_type": "code",
   "execution_count": 11,
   "metadata": {},
   "outputs": [
    {
     "name": "stderr",
     "output_type": "stream",
     "text": [
      "Downloading data: 100%|██████████| 9.21M/9.21M [00:01<00:00, 7.41MB/s]\n",
      "Downloading data: 100%|██████████| 2.15M/2.15M [00:00<00:00, 4.16MB/s]\n",
      "Downloading data: 100%|██████████| 899k/899k [00:00<00:00, 6.28MB/s]\n",
      "Generating train split: 100%|██████████| 18171/18171 [00:00<00:00, 46363.82 examples/s]\n",
      "Generating validation split: 100%|██████████| 4000/4000 [00:00<00:00, 46954.49 examples/s]\n",
      "Generating test split: 100%|██████████| 4000/4000 [00:00<00:00, 76419.16 examples/s]\n"
     ]
    }
   ],
   "source": [
    "import random\n",
    "from dspy.datasets import DataLoader\n",
    "\n",
    "kwargs = dict(fields=(\"claim\", \"supporting_facts\", \"hpqa_id\", \"num_hops\"), input_keys=(\"claim\",))\n",
    "hover = DataLoader().from_huggingface(dataset_name=\"hover-nlp/hover\", split=\"train\", trust_remote_code=True, **kwargs)\n",
    "\n",
    "hpqa_ids = set()\n",
    "hover = [\n",
    "    dspy.Example(claim=x.claim, titles=list(set([y[\"key\"] for y in x.supporting_facts]))).with_inputs(\"claim\")\n",
    "    for x in hover\n",
    "    if x[\"num_hops\"] == 3 and x[\"hpqa_id\"] not in hpqa_ids and not hpqa_ids.add(x[\"hpqa_id\"])\n",
    "]\n",
    "\n",
    "random.Random(0).shuffle(hover)\n",
    "trainset, devset, testset = hover[:200], hover[200:500], hover[650:]"
   ]
  },
  {
   "cell_type": "code",
   "execution_count": 12,
   "metadata": {},
   "outputs": [
    {
     "name": "stdout",
     "output_type": "stream",
     "text": [
      "Claim: This director is known for his work on Miss Potter. The Academy of Motion Picture Arts and Sciences presents the award in which he was nominated for his work in \"Babe\".\n",
      "Pages that must be retrieved: ['Academy Award for Best Director', 'Chris Noonan', 'Miss Potter']\n"
     ]
    }
   ],
   "source": [
    "example = trainset[0]\n",
    "\n",
    "print(\"Claim:\", example.claim)\n",
    "print(\"Pages that must be retrieved:\", example.titles)"
   ]
  },
  {
   "cell_type": "markdown",
   "metadata": {},
   "source": [
    "# Define the multi-hop agent"
   ]
  },
  {
   "cell_type": "code",
   "execution_count": 13,
   "metadata": {},
   "outputs": [],
   "source": [
    "def search(query: str, k: int) -> list[str]:\n",
    "    tokens = bm25s.tokenize(query, stopwords=\"en\", stemmer=stemmer, show_progress=False)\n",
    "    results, scores = retriever.retrieve(tokens, k=k, n_threads=1, show_progress=False)\n",
    "    run = {corpus[doc]: float(score) for doc, score in zip(results[0], scores[0])}\n",
    "    return run"
   ]
  },
  {
   "cell_type": "code",
   "execution_count": 14,
   "metadata": {},
   "outputs": [],
   "source": [
    "class Hop(dspy.Module):\n",
    "    def __init__(self, num_docs=10, num_hops=4):\n",
    "        self.num_docs, self.num_hops = num_docs, num_hops\n",
    "        self.generate_query = dspy.ChainOfThought('claim, notes -> query')\n",
    "        self.append_notes = dspy.ChainOfThought('claim, notes, context -> new_notes: list[str], titles: list[str]')\n",
    "\n",
    "    def forward(self, claim: str) -> list[str]:\n",
    "        notes = []\n",
    "        titles = []\n",
    "\n",
    "        for _ in range(self.num_hops):\n",
    "            query = self.generate_query(claim=claim, notes=notes).query\n",
    "            context = search(query, k=self.num_docs)\n",
    "            prediction = self.append_notes(claim=claim, notes=notes, context=context)\n",
    "            notes.extend(prediction.new_notes)\n",
    "            titles.extend(prediction.titles)\n",
    "        \n",
    "        return dspy.Prediction(notes=notes, titles=list(set(titles)))"
   ]
  },
  {
   "cell_type": "markdown",
   "metadata": {},
   "source": [
    "# Evaluation metric"
   ]
  },
  {
   "cell_type": "code",
   "execution_count": 18,
   "metadata": {},
   "outputs": [],
   "source": [
    "def top5_recall(example, pred, trace=None):\n",
    "    gold_titles = example.titles\n",
    "    recall = sum(x in pred.titles[:5] for x in gold_titles) / len(gold_titles)\n",
    "\n",
    "    # If we're \"bootstrapping\" for optimization, return True if and only if the recall is perfect.\n",
    "    if trace is not None:\n",
    "        return recall >= 1.0\n",
    "    \n",
    "    # If we're just doing inference, just measure the recall.\n",
    "    return recall\n",
    "\n",
    "evaluate = dspy.Evaluate(devset=devset[:5], metric=top5_recall, num_threads=16, display_progress=True, display_table=5)"
   ]
  },
  {
   "cell_type": "markdown",
   "metadata": {},
   "source": [
    "# Evaluate the agent before training"
   ]
  },
  {
   "cell_type": "code",
   "execution_count": 19,
   "metadata": {},
   "outputs": [
    {
     "name": "stdout",
     "output_type": "stream",
     "text": [
      "Average Metric: 0.00 / 5 (0.0%): 100%|██████████| 5/5 [00:09<00:00,  1.96s/it]"
     ]
    },
    {
     "name": "stderr",
     "output_type": "stream",
     "text": [
      "2025/03/26 14:50:43 INFO dspy.evaluate.evaluate: Average Metric: 0.0 / 5 (0.0%)\n"
     ]
    },
    {
     "name": "stdout",
     "output_type": "stream",
     "text": [
      "\n"
     ]
    },
    {
     "data": {
      "text/html": [
       "<div>\n",
       "<style scoped>\n",
       "    .dataframe tbody tr th:only-of-type {\n",
       "        vertical-align: middle;\n",
       "    }\n",
       "\n",
       "    .dataframe tbody tr th {\n",
       "        vertical-align: top;\n",
       "    }\n",
       "\n",
       "    .dataframe thead th {\n",
       "        text-align: right;\n",
       "    }\n",
       "</style>\n",
       "<table border=\"1\" class=\"dataframe\">\n",
       "  <thead>\n",
       "    <tr style=\"text-align: right;\">\n",
       "      <th></th>\n",
       "      <th>claim</th>\n",
       "      <th>example_titles</th>\n",
       "      <th>notes</th>\n",
       "      <th>pred_titles</th>\n",
       "      <th>top5_recall</th>\n",
       "    </tr>\n",
       "  </thead>\n",
       "  <tbody>\n",
       "    <tr>\n",
       "      <th>0</th>\n",
       "      <td>Nike football team has had a player endorse the football boot Nike...</td>\n",
       "      <td>[Nike Hypervenom, Nike Total 90, Marcus Rashford]</td>\n",
       "      <td>[]</td>\n",
       "      <td>[]</td>\n",
       "      <td></td>\n",
       "    </tr>\n",
       "    <tr>\n",
       "      <th>1</th>\n",
       "      <td>Bill Boyd is the chairman of the appliance company that operates t...</td>\n",
       "      <td>[Boyd Gaming, Thomas Eje, Suncoast Hotel and Casino]</td>\n",
       "      <td>[]</td>\n",
       "      <td>[Thomas Eje's Debut at Suncoast Casino, Bill Boyd's Role in Boyd G...</td>\n",
       "      <td></td>\n",
       "    </tr>\n",
       "    <tr>\n",
       "      <th>2</th>\n",
       "      <td>The president of South Korea was born 24 January 1953. The group t...</td>\n",
       "      <td>[Euh Yoon-dae, Moon Jae-in, Presidential Council on Nation Brandin...</td>\n",
       "      <td>[]</td>\n",
       "      <td>[Euh Yoon-Dae's Role in South Korean Government, Presidential Auth...</td>\n",
       "      <td></td>\n",
       "    </tr>\n",
       "    <tr>\n",
       "      <th>3</th>\n",
       "      <td>The movie Khan Kluay was released 2 months before the 2009 movie t...</td>\n",
       "      <td>[Jason Schwartzman, Khan Kluay, Fantastic Mr. Fox (film)]</td>\n",
       "      <td>[]</td>\n",
       "      <td>[]</td>\n",
       "      <td></td>\n",
       "    </tr>\n",
       "    <tr>\n",
       "      <th>4</th>\n",
       "      <td>The director of Finding Dory co-directed the film A Bug's Life.</td>\n",
       "      <td>[A Bug's Life, Finding Dory, Andrew Stanton]</td>\n",
       "      <td>[]</td>\n",
       "      <td>[]</td>\n",
       "      <td></td>\n",
       "    </tr>\n",
       "  </tbody>\n",
       "</table>\n",
       "</div>"
      ],
      "text/plain": [
       "                                                                   claim  \\\n",
       "0  Nike football team has had a player endorse the football boot Nike...   \n",
       "1  Bill Boyd is the chairman of the appliance company that operates t...   \n",
       "2  The president of South Korea was born 24 January 1953. The group t...   \n",
       "3  The movie Khan Kluay was released 2 months before the 2009 movie t...   \n",
       "4        The director of Finding Dory co-directed the film A Bug's Life.   \n",
       "\n",
       "                                                          example_titles  \\\n",
       "0                      [Nike Hypervenom, Nike Total 90, Marcus Rashford]   \n",
       "1                   [Boyd Gaming, Thomas Eje, Suncoast Hotel and Casino]   \n",
       "2  [Euh Yoon-dae, Moon Jae-in, Presidential Council on Nation Brandin...   \n",
       "3              [Jason Schwartzman, Khan Kluay, Fantastic Mr. Fox (film)]   \n",
       "4                           [A Bug's Life, Finding Dory, Andrew Stanton]   \n",
       "\n",
       "  notes  \\\n",
       "0    []   \n",
       "1    []   \n",
       "2    []   \n",
       "3    []   \n",
       "4    []   \n",
       "\n",
       "                                                             pred_titles  \\\n",
       "0                                                                     []   \n",
       "1  [Thomas Eje's Debut at Suncoast Casino, Bill Boyd's Role in Boyd G...   \n",
       "2  [Euh Yoon-Dae's Role in South Korean Government, Presidential Auth...   \n",
       "3                                                                     []   \n",
       "4                                                                     []   \n",
       "\n",
       "  top5_recall  \n",
       "0              \n",
       "1              \n",
       "2              \n",
       "3              \n",
       "4              "
      ]
     },
     "metadata": {},
     "output_type": "display_data"
    },
    {
     "data": {
      "text/plain": [
       "0.0"
      ]
     },
     "execution_count": 19,
     "metadata": {},
     "output_type": "execute_result"
    }
   ],
   "source": [
    "evaluate(Hop())"
   ]
  },
  {
   "cell_type": "markdown",
   "metadata": {},
   "source": []
  },
  {
   "cell_type": "markdown",
   "metadata": {},
   "source": [
    "# Optimize with MIPROv2 (prompt optimization)"
   ]
  },
  {
   "cell_type": "code",
   "execution_count": 22,
   "metadata": {},
   "outputs": [
    {
     "name": "stderr",
     "output_type": "stream",
     "text": [
      "2025/03/26 14:53:27 INFO dspy.teleprompt.mipro_optimizer_v2: \n",
      "RUNNING WITH THE FOLLOWING MEDIUM AUTO RUN SETTINGS:\n",
      "num_trials: 25\n",
      "minibatch: False\n",
      "num_candidates: 9\n",
      "valset size: 8\n",
      "\n",
      "2025/03/26 14:53:27 INFO dspy.teleprompt.mipro_optimizer_v2: \n",
      "==> STEP 1: BOOTSTRAP FEWSHOT EXAMPLES <==\n",
      "2025/03/26 14:53:27 INFO dspy.teleprompt.mipro_optimizer_v2: These will be used as few-shot example candidates for our program and for creating instructions.\n",
      "\n",
      "2025/03/26 14:53:27 INFO dspy.teleprompt.mipro_optimizer_v2: Bootstrapping N=9 sets of demonstrations...\n"
     ]
    },
    {
     "name": "stdout",
     "output_type": "stream",
     "text": [
      "Bootstrapping set 1/9\n",
      "Bootstrapping set 2/9\n",
      "Bootstrapping set 3/9\n"
     ]
    },
    {
     "name": "stderr",
     "output_type": "stream",
     "text": [
      "100%|██████████| 2/2 [00:44<00:00, 22.20s/it]\n"
     ]
    },
    {
     "name": "stdout",
     "output_type": "stream",
     "text": [
      "Bootstrapped 0 full traces after 1 examples for up to 1 rounds, amounting to 2 attempts.\n",
      "Bootstrapping set 4/9\n"
     ]
    },
    {
     "name": "stderr",
     "output_type": "stream",
     "text": [
      "100%|██████████| 2/2 [00:00<00:00, 15.13it/s]\n"
     ]
    },
    {
     "name": "stdout",
     "output_type": "stream",
     "text": [
      "Bootstrapped 0 full traces after 1 examples for up to 1 rounds, amounting to 2 attempts.\n",
      "Bootstrapping set 5/9\n"
     ]
    },
    {
     "name": "stderr",
     "output_type": "stream",
     "text": [
      "100%|██████████| 2/2 [00:00<00:00, 16.59it/s]\n"
     ]
    },
    {
     "name": "stdout",
     "output_type": "stream",
     "text": [
      "Bootstrapped 0 full traces after 1 examples for up to 1 rounds, amounting to 2 attempts.\n",
      "Bootstrapping set 6/9\n"
     ]
    },
    {
     "name": "stderr",
     "output_type": "stream",
     "text": [
      "100%|██████████| 2/2 [00:00<00:00, 14.45it/s]\n"
     ]
    },
    {
     "name": "stdout",
     "output_type": "stream",
     "text": [
      "Bootstrapped 0 full traces after 1 examples for up to 1 rounds, amounting to 2 attempts.\n",
      "Bootstrapping set 7/9\n"
     ]
    },
    {
     "name": "stderr",
     "output_type": "stream",
     "text": [
      "100%|██████████| 2/2 [00:00<00:00, 16.53it/s]\n"
     ]
    },
    {
     "name": "stdout",
     "output_type": "stream",
     "text": [
      "Bootstrapped 0 full traces after 1 examples for up to 1 rounds, amounting to 2 attempts.\n",
      "Bootstrapping set 8/9\n"
     ]
    },
    {
     "name": "stderr",
     "output_type": "stream",
     "text": [
      "100%|██████████| 2/2 [00:00<00:00, 16.75it/s]\n"
     ]
    },
    {
     "name": "stdout",
     "output_type": "stream",
     "text": [
      "Bootstrapped 0 full traces after 1 examples for up to 1 rounds, amounting to 2 attempts.\n",
      "Bootstrapping set 9/9\n"
     ]
    },
    {
     "name": "stderr",
     "output_type": "stream",
     "text": [
      "100%|██████████| 2/2 [00:00<00:00, 16.73it/s]\n",
      "2025/03/26 14:54:12 INFO dspy.teleprompt.mipro_optimizer_v2: \n",
      "==> STEP 2: PROPOSE INSTRUCTION CANDIDATES <==\n",
      "2025/03/26 14:54:12 INFO dspy.teleprompt.mipro_optimizer_v2: We will use the few-shot examples from the previous step, a generated dataset summary, a summary of the program code, and a randomly selected prompting tip to propose instructions.\n"
     ]
    },
    {
     "name": "stdout",
     "output_type": "stream",
     "text": [
      "Bootstrapped 0 full traces after 1 examples for up to 1 rounds, amounting to 2 attempts.\n"
     ]
    },
    {
     "name": "stderr",
     "output_type": "stream",
     "text": [
      "2025/03/26 14:54:15 INFO dspy.teleprompt.mipro_optimizer_v2: \n",
      "Proposing instructions...\n",
      "\n",
      "2025/03/26 14:56:11 INFO dspy.teleprompt.mipro_optimizer_v2: Proposed Instructions for Predictor 0:\n",
      "\n",
      "2025/03/26 14:56:11 INFO dspy.teleprompt.mipro_optimizer_v2: 0: Given the fields `claim`, `notes`, produce the fields `query`.\n",
      "\n",
      "2025/03/26 14:56:11 INFO dspy.teleprompt.mipro_optimizer_v2: 1: Imagine you are a film historian tasked with uncovering the hidden connections between acclaimed films and their creators. Given the fields `claim` and `notes`, generate a precise query that will help you delve deeper into the cinematic achievements associated with the claim. This query should be designed to extract significant insights that can enhance our understanding of the film's impact and its creators' contributions.\n",
      "\n",
      "2025/03/26 14:56:11 INFO dspy.teleprompt.mipro_optimizer_v2: 2: You are an information retrieval expert. Given the fields `claim` and `notes`, analyze the information and generate a well-structured `query` that can be used to gather relevant data.\n",
      "\n",
      "2025/03/26 14:56:11 INFO dspy.teleprompt.mipro_optimizer_v2: 3: You are a knowledgeable film historian. Given the fields `claim` and `notes`, generate a detailed `query` that captures the essence of the claim and incorporates the insights from the notes to facilitate further exploration of the topic.\n",
      "\n",
      "2025/03/26 14:56:11 INFO dspy.teleprompt.mipro_optimizer_v2: 4: Using the provided `claim` and `notes`, generate a coherent and relevant `query` that encapsulates the essence of the information while guiding the next steps of the refinement process.\n",
      "\n",
      "2025/03/26 14:56:11 INFO dspy.teleprompt.mipro_optimizer_v2: 5: Using the provided `claim` and `notes`, generate a detailed reasoning process that justifies the claim and formulate an insightful query that can be used to gather relevant information. Ensure that the reasoning is clear and logically structured to support the claim effectively.\n",
      "\n",
      "2025/03/26 14:56:11 INFO dspy.teleprompt.mipro_optimizer_v2: 6: Using the input fields `claim` and `notes`, create a detailed reasoning statement that explains the logical steps taken to formulate a relevant query. This query should be designed to search for additional context or information that enhances the understanding of the claim. Produce the output field `query` as the generated query that follows from the reasoning provided.\n",
      "\n",
      "2025/03/26 14:56:11 INFO dspy.teleprompt.mipro_optimizer_v2: 7: Using the provided `claim` and `notes`, generate a well-informed `query` that can be used to retrieve relevant context or data, and include a reasoning statement that explains the process of forming the query.\n",
      "\n",
      "2025/03/26 14:56:11 INFO dspy.teleprompt.mipro_optimizer_v2: 8: Using the provided `claim` and `notes`, generate a structured query that captures the essence of the claim and integrates relevant information from the notes. This query will be utilized to search for context that enhances the understanding of the claim. Ensure that the query reflects the key elements of the claim while being concise and focused to maximize the relevance of the retrieved context.\n",
      "\n",
      "2025/03/26 14:56:11 INFO dspy.teleprompt.mipro_optimizer_v2: \n",
      "\n",
      "2025/03/26 14:56:11 INFO dspy.teleprompt.mipro_optimizer_v2: Proposed Instructions for Predictor 1:\n",
      "\n",
      "2025/03/26 14:56:11 INFO dspy.teleprompt.mipro_optimizer_v2: 0: Given the fields `claim`, `notes`, `context`, produce the fields `new_notes`, `titles`.\n",
      "\n",
      "2025/03/26 14:56:11 INFO dspy.teleprompt.mipro_optimizer_v2: 1: Given the initial `claim`, existing `notes`, and additional `context`, please generate a refined set of `new_notes` and a list of relevant `titles` that enhance the understanding of the claim. Use reasoning to analyze the inputs and ensure the outputs provide valuable insights.\n",
      "\n",
      "2025/03/26 14:56:11 INFO dspy.teleprompt.mipro_optimizer_v2: 2: Given the `claim`, `notes`, and `context`, please generate new insights and summaries that include `new_notes` and `titles` that are relevant to the claim. Use reasoning to synthesize the information effectively and enhance the overall understanding of the claim.\n",
      "\n",
      "2025/03/26 14:56:11 INFO dspy.teleprompt.mipro_optimizer_v2: 3: Using the provided fields `claim`, `notes`, and `context`, please generate a comprehensive set of `new_notes` and a unique list of `titles`. Ensure that your reasoning is clear and logical, drawing from the context to enhance the insights derived from the initial claim and existing notes. Aim for clarity and relevance in the outputs to effectively support the understanding of the claim.\n",
      "\n",
      "2025/03/26 14:56:11 INFO dspy.teleprompt.mipro_optimizer_v2: 4: Using the provided `claim`, `notes`, and `context`, generate detailed `new_notes` that expand upon the initial claim and create a list of relevant `titles` that encapsulate the essence of the refined information. Ensure the reasoning is clear and logically connects the claim with the new insights derived from the context.\n",
      "\n",
      "2025/03/26 14:56:11 INFO dspy.teleprompt.mipro_optimizer_v2: 5: Using the fields `claim`, `notes`, and `context`, generate a detailed reasoning output that enhances the existing notes and produces relevant titles. Ensure that the new notes are comprehensive and accurately reflect the content derived from the claim.\n",
      "\n",
      "2025/03/26 14:56:11 INFO dspy.teleprompt.mipro_optimizer_v2: 6: Given the `claim`, `notes`, and `context`, generate a detailed explanation of your reasoning process, and produce a list of `new_notes` that expand upon the existing information, along with a list of `titles` that encapsulate the key themes related to the claim.\n",
      "\n",
      "2025/03/26 14:56:11 INFO dspy.teleprompt.mipro_optimizer_v2: 7: Imagine you are a film historian tasked with uncovering the intricate connections between a specific claim about a film, its existing notes, and the broader cinematic context. Your job is to analyze the claim thoroughly, utilizing the provided context to generate insightful new notes and relevant titles that could shed light on the film's significance. Given the fields `claim`, `notes`, and `context`, produce the fields `new_notes` and `titles` to enhance the understanding of the film's impact on the industry.\n",
      "\n",
      "2025/03/26 14:56:11 INFO dspy.teleprompt.mipro_optimizer_v2: 8: Using the provided `claim`, `notes`, and `context`, generate insightful `new_notes` and relevant `titles` that deepen the understanding of the claim. Ensure that the new information is well-integrated and adds value to the existing notes, reflecting a comprehensive synthesis of the context.\n",
      "\n",
      "2025/03/26 14:56:11 INFO dspy.teleprompt.mipro_optimizer_v2: \n",
      "\n",
      "2025/03/26 14:56:11 INFO dspy.teleprompt.mipro_optimizer_v2: ==> STEP 3: FINDING OPTIMAL PROMPT PARAMETERS <==\n",
      "2025/03/26 14:56:11 INFO dspy.teleprompt.mipro_optimizer_v2: We will evaluate the program over a series of trials with different combinations of instructions and few-shot examples to find the optimal combination using Bayesian Optimization.\n",
      "\n",
      "2025/03/26 14:56:11 INFO dspy.teleprompt.mipro_optimizer_v2: == Trial 1 / 25 - Full Evaluation of Default Program ==\n"
     ]
    },
    {
     "name": "stdout",
     "output_type": "stream",
     "text": [
      "Average Metric: 0.67 / 8 (8.3%): 100%|██████████| 8/8 [00:05<00:00,  1.50it/s] "
     ]
    },
    {
     "name": "stderr",
     "output_type": "stream",
     "text": [
      "2025/03/26 14:56:17 INFO dspy.evaluate.evaluate: Average Metric: 0.6666666666666666 / 8 (8.3%)\n",
      "2025/03/26 14:56:17 INFO dspy.teleprompt.mipro_optimizer_v2: Default program score: 8.33\n",
      "\n",
      "/Users/benediktstroebl/anaconda3/envs/multihop/lib/python3.11/site-packages/optuna/_experimental.py:31: ExperimentalWarning: Argument ``multivariate`` is an experimental feature. The interface can change in the future.\n",
      "  warnings.warn(\n",
      "2025/03/26 14:56:17 INFO dspy.teleprompt.mipro_optimizer_v2: ===== Trial 2 / 25 =====\n"
     ]
    },
    {
     "name": "stdout",
     "output_type": "stream",
     "text": [
      "\n",
      "Average Metric: 1.67 / 8 (20.8%): 100%|██████████| 8/8 [00:46<00:00,  5.78s/it]"
     ]
    },
    {
     "name": "stderr",
     "output_type": "stream",
     "text": [
      "2025/03/26 14:57:03 INFO dspy.evaluate.evaluate: Average Metric: 1.6666666666666665 / 8 (20.8%)\n",
      "2025/03/26 14:57:03 INFO dspy.teleprompt.mipro_optimizer_v2: \u001b[92mBest full score so far!\u001b[0m Score: 20.83\n",
      "2025/03/26 14:57:03 INFO dspy.teleprompt.mipro_optimizer_v2: Score: 20.83 with parameters ['Predictor 0: Instruction 1', 'Predictor 0: Few-Shot Set 3', 'Predictor 1: Instruction 8', 'Predictor 1: Few-Shot Set 5'].\n",
      "2025/03/26 14:57:03 INFO dspy.teleprompt.mipro_optimizer_v2: Scores so far: [8.33, 20.83]\n",
      "2025/03/26 14:57:03 INFO dspy.teleprompt.mipro_optimizer_v2: Best score so far: 20.83\n",
      "2025/03/26 14:57:03 INFO dspy.teleprompt.mipro_optimizer_v2: ========================\n",
      "\n",
      "\n",
      "2025/03/26 14:57:03 INFO dspy.teleprompt.mipro_optimizer_v2: ===== Trial 3 / 25 =====\n"
     ]
    },
    {
     "name": "stdout",
     "output_type": "stream",
     "text": [
      "\n",
      "Average Metric: 1.33 / 8 (16.7%): 100%|██████████| 8/8 [00:32<00:00,  4.05s/it]"
     ]
    },
    {
     "name": "stderr",
     "output_type": "stream",
     "text": [
      "2025/03/26 14:57:35 INFO dspy.evaluate.evaluate: Average Metric: 1.3333333333333333 / 8 (16.7%)\n",
      "2025/03/26 14:57:35 INFO dspy.teleprompt.mipro_optimizer_v2: Score: 16.67 with parameters ['Predictor 0: Instruction 0', 'Predictor 0: Few-Shot Set 3', 'Predictor 1: Instruction 8', 'Predictor 1: Few-Shot Set 1'].\n",
      "2025/03/26 14:57:35 INFO dspy.teleprompt.mipro_optimizer_v2: Scores so far: [8.33, 20.83, 16.67]\n",
      "2025/03/26 14:57:35 INFO dspy.teleprompt.mipro_optimizer_v2: Best score so far: 20.83\n",
      "2025/03/26 14:57:35 INFO dspy.teleprompt.mipro_optimizer_v2: ========================\n",
      "\n",
      "\n",
      "2025/03/26 14:57:35 INFO dspy.teleprompt.mipro_optimizer_v2: ===== Trial 4 / 25 =====\n"
     ]
    },
    {
     "name": "stdout",
     "output_type": "stream",
     "text": [
      "\n",
      "Average Metric: 2.33 / 8 (29.2%): 100%|██████████| 8/8 [00:33<00:00,  4.21s/it]"
     ]
    },
    {
     "name": "stderr",
     "output_type": "stream",
     "text": [
      "2025/03/26 14:58:09 INFO dspy.evaluate.evaluate: Average Metric: 2.333333333333333 / 8 (29.2%)\n",
      "2025/03/26 14:58:09 INFO dspy.teleprompt.mipro_optimizer_v2: \u001b[92mBest full score so far!\u001b[0m Score: 29.17\n",
      "2025/03/26 14:58:09 INFO dspy.teleprompt.mipro_optimizer_v2: Score: 29.17 with parameters ['Predictor 0: Instruction 8', 'Predictor 0: Few-Shot Set 2', 'Predictor 1: Instruction 8', 'Predictor 1: Few-Shot Set 3'].\n",
      "2025/03/26 14:58:09 INFO dspy.teleprompt.mipro_optimizer_v2: Scores so far: [8.33, 20.83, 16.67, 29.17]\n",
      "2025/03/26 14:58:09 INFO dspy.teleprompt.mipro_optimizer_v2: Best score so far: 29.17\n",
      "2025/03/26 14:58:09 INFO dspy.teleprompt.mipro_optimizer_v2: ========================\n",
      "\n",
      "\n",
      "2025/03/26 14:58:09 INFO dspy.teleprompt.mipro_optimizer_v2: ===== Trial 5 / 25 =====\n"
     ]
    },
    {
     "name": "stdout",
     "output_type": "stream",
     "text": [
      "\n",
      "Average Metric: 0.00 / 8 (0.0%): 100%|██████████| 8/8 [00:46<00:00,  5.80s/it]"
     ]
    },
    {
     "name": "stderr",
     "output_type": "stream",
     "text": [
      "2025/03/26 14:58:56 INFO dspy.evaluate.evaluate: Average Metric: 0.0 / 8 (0.0%)\n",
      "2025/03/26 14:58:56 INFO dspy.teleprompt.mipro_optimizer_v2: Score: 0.0 with parameters ['Predictor 0: Instruction 5', 'Predictor 0: Few-Shot Set 4', 'Predictor 1: Instruction 3', 'Predictor 1: Few-Shot Set 0'].\n",
      "2025/03/26 14:58:56 INFO dspy.teleprompt.mipro_optimizer_v2: Scores so far: [8.33, 20.83, 16.67, 29.17, 0.0]\n",
      "2025/03/26 14:58:56 INFO dspy.teleprompt.mipro_optimizer_v2: Best score so far: 29.17\n",
      "2025/03/26 14:58:56 INFO dspy.teleprompt.mipro_optimizer_v2: ========================\n",
      "\n",
      "\n",
      "2025/03/26 14:58:56 INFO dspy.teleprompt.mipro_optimizer_v2: ===== Trial 6 / 25 =====\n"
     ]
    },
    {
     "name": "stdout",
     "output_type": "stream",
     "text": [
      "\n",
      "Average Metric: 4.33 / 8 (54.2%): 100%|██████████| 8/8 [00:27<00:00,  3.47s/it]"
     ]
    },
    {
     "name": "stderr",
     "output_type": "stream",
     "text": [
      "2025/03/26 14:59:23 INFO dspy.evaluate.evaluate: Average Metric: 4.333333333333333 / 8 (54.2%)\n",
      "2025/03/26 14:59:23 INFO dspy.teleprompt.mipro_optimizer_v2: \u001b[92mBest full score so far!\u001b[0m Score: 54.17\n",
      "2025/03/26 14:59:23 INFO dspy.teleprompt.mipro_optimizer_v2: Score: 54.17 with parameters ['Predictor 0: Instruction 3', 'Predictor 0: Few-Shot Set 7', 'Predictor 1: Instruction 0', 'Predictor 1: Few-Shot Set 6'].\n",
      "2025/03/26 14:59:23 INFO dspy.teleprompt.mipro_optimizer_v2: Scores so far: [8.33, 20.83, 16.67, 29.17, 0.0, 54.17]\n",
      "2025/03/26 14:59:23 INFO dspy.teleprompt.mipro_optimizer_v2: Best score so far: 54.17\n",
      "2025/03/26 14:59:23 INFO dspy.teleprompt.mipro_optimizer_v2: ========================\n",
      "\n",
      "\n",
      "2025/03/26 14:59:23 INFO dspy.teleprompt.mipro_optimizer_v2: ===== Trial 7 / 25 =====\n"
     ]
    },
    {
     "name": "stdout",
     "output_type": "stream",
     "text": [
      "\n",
      "Average Metric: 0.67 / 8 (8.3%): 100%|██████████| 8/8 [00:33<00:00,  4.25s/it] "
     ]
    },
    {
     "name": "stderr",
     "output_type": "stream",
     "text": [
      "2025/03/26 14:59:57 INFO dspy.evaluate.evaluate: Average Metric: 0.6666666666666666 / 8 (8.3%)\n",
      "2025/03/26 14:59:57 INFO dspy.teleprompt.mipro_optimizer_v2: Score: 8.33 with parameters ['Predictor 0: Instruction 4', 'Predictor 0: Few-Shot Set 0', 'Predictor 1: Instruction 7', 'Predictor 1: Few-Shot Set 3'].\n",
      "2025/03/26 14:59:57 INFO dspy.teleprompt.mipro_optimizer_v2: Scores so far: [8.33, 20.83, 16.67, 29.17, 0.0, 54.17, 8.33]\n",
      "2025/03/26 14:59:57 INFO dspy.teleprompt.mipro_optimizer_v2: Best score so far: 54.17\n",
      "2025/03/26 14:59:57 INFO dspy.teleprompt.mipro_optimizer_v2: ========================\n",
      "\n",
      "\n",
      "2025/03/26 14:59:57 INFO dspy.teleprompt.mipro_optimizer_v2: ===== Trial 8 / 25 =====\n"
     ]
    },
    {
     "name": "stdout",
     "output_type": "stream",
     "text": [
      "\n",
      "Average Metric: 2.33 / 8 (29.2%): 100%|██████████| 8/8 [00:35<00:00,  4.38s/it]"
     ]
    },
    {
     "name": "stderr",
     "output_type": "stream",
     "text": [
      "2025/03/26 15:00:32 INFO dspy.evaluate.evaluate: Average Metric: 2.3333333333333335 / 8 (29.2%)\n",
      "2025/03/26 15:00:32 INFO dspy.teleprompt.mipro_optimizer_v2: Score: 29.17 with parameters ['Predictor 0: Instruction 8', 'Predictor 0: Few-Shot Set 7', 'Predictor 1: Instruction 1', 'Predictor 1: Few-Shot Set 3'].\n",
      "2025/03/26 15:00:32 INFO dspy.teleprompt.mipro_optimizer_v2: Scores so far: [8.33, 20.83, 16.67, 29.17, 0.0, 54.17, 8.33, 29.17]\n",
      "2025/03/26 15:00:32 INFO dspy.teleprompt.mipro_optimizer_v2: Best score so far: 54.17\n",
      "2025/03/26 15:00:32 INFO dspy.teleprompt.mipro_optimizer_v2: ========================\n",
      "\n",
      "\n",
      "2025/03/26 15:00:32 INFO dspy.teleprompt.mipro_optimizer_v2: ===== Trial 9 / 25 =====\n"
     ]
    },
    {
     "name": "stdout",
     "output_type": "stream",
     "text": [
      "\n",
      "Average Metric: 0.00 / 8 (0.0%): 100%|██████████| 8/8 [00:41<00:00,  5.15s/it]"
     ]
    },
    {
     "name": "stderr",
     "output_type": "stream",
     "text": [
      "2025/03/26 15:01:14 INFO dspy.evaluate.evaluate: Average Metric: 0.0 / 8 (0.0%)\n",
      "2025/03/26 15:01:14 INFO dspy.teleprompt.mipro_optimizer_v2: Score: 0.0 with parameters ['Predictor 0: Instruction 7', 'Predictor 0: Few-Shot Set 3', 'Predictor 1: Instruction 7', 'Predictor 1: Few-Shot Set 0'].\n",
      "2025/03/26 15:01:14 INFO dspy.teleprompt.mipro_optimizer_v2: Scores so far: [8.33, 20.83, 16.67, 29.17, 0.0, 54.17, 8.33, 29.17, 0.0]\n",
      "2025/03/26 15:01:14 INFO dspy.teleprompt.mipro_optimizer_v2: Best score so far: 54.17\n",
      "2025/03/26 15:01:14 INFO dspy.teleprompt.mipro_optimizer_v2: ========================\n",
      "\n",
      "\n",
      "2025/03/26 15:01:14 INFO dspy.teleprompt.mipro_optimizer_v2: ===== Trial 10 / 25 =====\n"
     ]
    },
    {
     "name": "stdout",
     "output_type": "stream",
     "text": [
      "\n",
      "Average Metric: 3.00 / 8 (37.5%): 100%|██████████| 8/8 [00:31<00:00,  3.99s/it]"
     ]
    },
    {
     "name": "stderr",
     "output_type": "stream",
     "text": [
      "2025/03/26 15:01:46 INFO dspy.evaluate.evaluate: Average Metric: 3.0 / 8 (37.5%)\n",
      "2025/03/26 15:01:46 INFO dspy.teleprompt.mipro_optimizer_v2: Score: 37.5 with parameters ['Predictor 0: Instruction 2', 'Predictor 0: Few-Shot Set 1', 'Predictor 1: Instruction 3', 'Predictor 1: Few-Shot Set 7'].\n",
      "2025/03/26 15:01:46 INFO dspy.teleprompt.mipro_optimizer_v2: Scores so far: [8.33, 20.83, 16.67, 29.17, 0.0, 54.17, 8.33, 29.17, 0.0, 37.5]\n",
      "2025/03/26 15:01:46 INFO dspy.teleprompt.mipro_optimizer_v2: Best score so far: 54.17\n",
      "2025/03/26 15:01:46 INFO dspy.teleprompt.mipro_optimizer_v2: =========================\n",
      "\n",
      "\n",
      "2025/03/26 15:01:46 INFO dspy.teleprompt.mipro_optimizer_v2: ===== Trial 11 / 25 =====\n"
     ]
    },
    {
     "name": "stdout",
     "output_type": "stream",
     "text": [
      "\n",
      "Average Metric: 4.67 / 8 (58.3%): 100%|██████████| 8/8 [00:24<00:00,  3.00s/it]"
     ]
    },
    {
     "name": "stderr",
     "output_type": "stream",
     "text": [
      "2025/03/26 15:02:10 INFO dspy.evaluate.evaluate: Average Metric: 4.666666666666666 / 8 (58.3%)\n",
      "2025/03/26 15:02:10 INFO dspy.teleprompt.mipro_optimizer_v2: \u001b[92mBest full score so far!\u001b[0m Score: 58.33\n",
      "2025/03/26 15:02:10 INFO dspy.teleprompt.mipro_optimizer_v2: Score: 58.33 with parameters ['Predictor 0: Instruction 3', 'Predictor 0: Few-Shot Set 7', 'Predictor 1: Instruction 0', 'Predictor 1: Few-Shot Set 1'].\n",
      "2025/03/26 15:02:10 INFO dspy.teleprompt.mipro_optimizer_v2: Scores so far: [8.33, 20.83, 16.67, 29.17, 0.0, 54.17, 8.33, 29.17, 0.0, 37.5, 58.33]\n",
      "2025/03/26 15:02:10 INFO dspy.teleprompt.mipro_optimizer_v2: Best score so far: 58.33\n",
      "2025/03/26 15:02:10 INFO dspy.teleprompt.mipro_optimizer_v2: =========================\n",
      "\n",
      "\n",
      "2025/03/26 15:02:10 INFO dspy.teleprompt.mipro_optimizer_v2: ===== Trial 12 / 25 =====\n"
     ]
    },
    {
     "name": "stdout",
     "output_type": "stream",
     "text": [
      "\n",
      "Average Metric: 4.33 / 8 (54.2%): 100%|██████████| 8/8 [00:00<00:00, 26.84it/s]"
     ]
    },
    {
     "name": "stderr",
     "output_type": "stream",
     "text": [
      "2025/03/26 15:02:10 INFO dspy.evaluate.evaluate: Average Metric: 4.333333333333333 / 8 (54.2%)\n",
      "2025/03/26 15:02:10 INFO dspy.teleprompt.mipro_optimizer_v2: Score: 54.17 with parameters ['Predictor 0: Instruction 3', 'Predictor 0: Few-Shot Set 6', 'Predictor 1: Instruction 0', 'Predictor 1: Few-Shot Set 6'].\n",
      "2025/03/26 15:02:10 INFO dspy.teleprompt.mipro_optimizer_v2: Scores so far: [8.33, 20.83, 16.67, 29.17, 0.0, 54.17, 8.33, 29.17, 0.0, 37.5, 58.33, 54.17]\n",
      "2025/03/26 15:02:10 INFO dspy.teleprompt.mipro_optimizer_v2: Best score so far: 58.33\n",
      "2025/03/26 15:02:10 INFO dspy.teleprompt.mipro_optimizer_v2: =========================\n",
      "\n",
      "\n",
      "2025/03/26 15:02:10 INFO dspy.teleprompt.mipro_optimizer_v2: ===== Trial 13 / 25 =====\n"
     ]
    },
    {
     "name": "stdout",
     "output_type": "stream",
     "text": [
      "\n",
      "Average Metric: 4.33 / 8 (54.2%): 100%|██████████| 8/8 [00:00<00:00, 26.80it/s]"
     ]
    },
    {
     "name": "stderr",
     "output_type": "stream",
     "text": [
      "2025/03/26 15:02:10 INFO dspy.evaluate.evaluate: Average Metric: 4.333333333333333 / 8 (54.2%)\n",
      "2025/03/26 15:02:10 INFO dspy.teleprompt.mipro_optimizer_v2: Score: 54.17 with parameters ['Predictor 0: Instruction 3', 'Predictor 0: Few-Shot Set 7', 'Predictor 1: Instruction 0', 'Predictor 1: Few-Shot Set 4'].\n",
      "2025/03/26 15:02:10 INFO dspy.teleprompt.mipro_optimizer_v2: Scores so far: [8.33, 20.83, 16.67, 29.17, 0.0, 54.17, 8.33, 29.17, 0.0, 37.5, 58.33, 54.17, 54.17]\n",
      "2025/03/26 15:02:10 INFO dspy.teleprompt.mipro_optimizer_v2: Best score so far: 58.33\n",
      "2025/03/26 15:02:10 INFO dspy.teleprompt.mipro_optimizer_v2: =========================\n",
      "\n",
      "\n",
      "2025/03/26 15:02:10 INFO dspy.teleprompt.mipro_optimizer_v2: ===== Trial 14 / 25 =====\n"
     ]
    },
    {
     "name": "stdout",
     "output_type": "stream",
     "text": [
      "\n",
      "Average Metric: 2.33 / 8 (29.2%): 100%|██████████| 8/8 [00:36<00:00,  4.56s/it]"
     ]
    },
    {
     "name": "stderr",
     "output_type": "stream",
     "text": [
      "2025/03/26 15:02:47 INFO dspy.evaluate.evaluate: Average Metric: 2.3333333333333335 / 8 (29.2%)\n",
      "2025/03/26 15:02:47 INFO dspy.teleprompt.mipro_optimizer_v2: Score: 29.17 with parameters ['Predictor 0: Instruction 3', 'Predictor 0: Few-Shot Set 0', 'Predictor 1: Instruction 1', 'Predictor 1: Few-Shot Set 1'].\n",
      "2025/03/26 15:02:47 INFO dspy.teleprompt.mipro_optimizer_v2: Scores so far: [8.33, 20.83, 16.67, 29.17, 0.0, 54.17, 8.33, 29.17, 0.0, 37.5, 58.33, 54.17, 54.17, 29.17]\n",
      "2025/03/26 15:02:47 INFO dspy.teleprompt.mipro_optimizer_v2: Best score so far: 58.33\n",
      "2025/03/26 15:02:47 INFO dspy.teleprompt.mipro_optimizer_v2: =========================\n",
      "\n",
      "\n",
      "2025/03/26 15:02:47 INFO dspy.teleprompt.mipro_optimizer_v2: ===== Trial 15 / 25 =====\n"
     ]
    },
    {
     "name": "stdout",
     "output_type": "stream",
     "text": [
      "\n",
      "Average Metric: 2.33 / 8 (29.2%): 100%|██████████| 8/8 [00:31<00:00,  3.93s/it]"
     ]
    },
    {
     "name": "stderr",
     "output_type": "stream",
     "text": [
      "2025/03/26 15:03:18 INFO dspy.evaluate.evaluate: Average Metric: 2.333333333333333 / 8 (29.2%)\n",
      "2025/03/26 15:03:18 INFO dspy.teleprompt.mipro_optimizer_v2: Score: 29.17 with parameters ['Predictor 0: Instruction 2', 'Predictor 0: Few-Shot Set 7', 'Predictor 1: Instruction 5', 'Predictor 1: Few-Shot Set 6'].\n",
      "2025/03/26 15:03:18 INFO dspy.teleprompt.mipro_optimizer_v2: Scores so far: [8.33, 20.83, 16.67, 29.17, 0.0, 54.17, 8.33, 29.17, 0.0, 37.5, 58.33, 54.17, 54.17, 29.17, 29.17]\n",
      "2025/03/26 15:03:18 INFO dspy.teleprompt.mipro_optimizer_v2: Best score so far: 58.33\n",
      "2025/03/26 15:03:18 INFO dspy.teleprompt.mipro_optimizer_v2: =========================\n",
      "\n",
      "\n",
      "2025/03/26 15:03:18 INFO dspy.teleprompt.mipro_optimizer_v2: ===== Trial 16 / 25 =====\n"
     ]
    },
    {
     "name": "stdout",
     "output_type": "stream",
     "text": [
      "\n",
      "Average Metric: 4.33 / 8 (54.2%): 100%|██████████| 8/8 [00:25<00:00,  3.16s/it]"
     ]
    },
    {
     "name": "stderr",
     "output_type": "stream",
     "text": [
      "2025/03/26 15:03:44 INFO dspy.evaluate.evaluate: Average Metric: 4.333333333333333 / 8 (54.2%)\n",
      "2025/03/26 15:03:44 INFO dspy.teleprompt.mipro_optimizer_v2: Score: 54.17 with parameters ['Predictor 0: Instruction 8', 'Predictor 0: Few-Shot Set 5', 'Predictor 1: Instruction 0', 'Predictor 1: Few-Shot Set 1'].\n",
      "2025/03/26 15:03:44 INFO dspy.teleprompt.mipro_optimizer_v2: Scores so far: [8.33, 20.83, 16.67, 29.17, 0.0, 54.17, 8.33, 29.17, 0.0, 37.5, 58.33, 54.17, 54.17, 29.17, 29.17, 54.17]\n",
      "2025/03/26 15:03:44 INFO dspy.teleprompt.mipro_optimizer_v2: Best score so far: 58.33\n",
      "2025/03/26 15:03:44 INFO dspy.teleprompt.mipro_optimizer_v2: =========================\n",
      "\n",
      "\n",
      "2025/03/26 15:03:44 INFO dspy.teleprompt.mipro_optimizer_v2: ===== Trial 17 / 25 =====\n"
     ]
    },
    {
     "name": "stdout",
     "output_type": "stream",
     "text": [
      "\n",
      "Average Metric: 4.67 / 8 (58.3%): 100%|██████████| 8/8 [00:00<00:00, 28.56it/s]"
     ]
    },
    {
     "name": "stderr",
     "output_type": "stream",
     "text": [
      "2025/03/26 15:03:44 INFO dspy.evaluate.evaluate: Average Metric: 4.666666666666666 / 8 (58.3%)\n",
      "2025/03/26 15:03:44 INFO dspy.teleprompt.mipro_optimizer_v2: Score: 58.33 with parameters ['Predictor 0: Instruction 3', 'Predictor 0: Few-Shot Set 4', 'Predictor 1: Instruction 0', 'Predictor 1: Few-Shot Set 1'].\n",
      "2025/03/26 15:03:44 INFO dspy.teleprompt.mipro_optimizer_v2: Scores so far: [8.33, 20.83, 16.67, 29.17, 0.0, 54.17, 8.33, 29.17, 0.0, 37.5, 58.33, 54.17, 54.17, 29.17, 29.17, 54.17, 58.33]\n",
      "2025/03/26 15:03:44 INFO dspy.teleprompt.mipro_optimizer_v2: Best score so far: 58.33\n",
      "2025/03/26 15:03:44 INFO dspy.teleprompt.mipro_optimizer_v2: =========================\n",
      "\n",
      "\n",
      "2025/03/26 15:03:44 INFO dspy.teleprompt.mipro_optimizer_v2: ===== Trial 18 / 25 =====\n"
     ]
    },
    {
     "name": "stdout",
     "output_type": "stream",
     "text": [
      "\n",
      "Average Metric: 1.67 / 8 (20.8%): 100%|██████████| 8/8 [00:28<00:00,  3.55s/it]"
     ]
    },
    {
     "name": "stderr",
     "output_type": "stream",
     "text": [
      "2025/03/26 15:04:12 INFO dspy.evaluate.evaluate: Average Metric: 1.6666666666666665 / 8 (20.8%)\n",
      "2025/03/26 15:04:12 INFO dspy.teleprompt.mipro_optimizer_v2: Score: 20.83 with parameters ['Predictor 0: Instruction 7', 'Predictor 0: Few-Shot Set 4', 'Predictor 1: Instruction 6', 'Predictor 1: Few-Shot Set 1'].\n",
      "2025/03/26 15:04:12 INFO dspy.teleprompt.mipro_optimizer_v2: Scores so far: [8.33, 20.83, 16.67, 29.17, 0.0, 54.17, 8.33, 29.17, 0.0, 37.5, 58.33, 54.17, 54.17, 29.17, 29.17, 54.17, 58.33, 20.83]\n",
      "2025/03/26 15:04:12 INFO dspy.teleprompt.mipro_optimizer_v2: Best score so far: 58.33\n",
      "2025/03/26 15:04:12 INFO dspy.teleprompt.mipro_optimizer_v2: =========================\n",
      "\n",
      "\n",
      "2025/03/26 15:04:12 INFO dspy.teleprompt.mipro_optimizer_v2: ===== Trial 19 / 25 =====\n"
     ]
    },
    {
     "name": "stdout",
     "output_type": "stream",
     "text": [
      "\n",
      "Average Metric: 3.00 / 8 (37.5%): 100%|██████████| 8/8 [00:32<00:00,  4.07s/it]"
     ]
    },
    {
     "name": "stderr",
     "output_type": "stream",
     "text": [
      "2025/03/26 15:04:45 INFO dspy.evaluate.evaluate: Average Metric: 2.9999999999999996 / 8 (37.5%)\n",
      "2025/03/26 15:04:45 INFO dspy.teleprompt.mipro_optimizer_v2: Score: 37.5 with parameters ['Predictor 0: Instruction 3', 'Predictor 0: Few-Shot Set 4', 'Predictor 1: Instruction 3', 'Predictor 1: Few-Shot Set 1'].\n",
      "2025/03/26 15:04:45 INFO dspy.teleprompt.mipro_optimizer_v2: Scores so far: [8.33, 20.83, 16.67, 29.17, 0.0, 54.17, 8.33, 29.17, 0.0, 37.5, 58.33, 54.17, 54.17, 29.17, 29.17, 54.17, 58.33, 20.83, 37.5]\n",
      "2025/03/26 15:04:45 INFO dspy.teleprompt.mipro_optimizer_v2: Best score so far: 58.33\n",
      "2025/03/26 15:04:45 INFO dspy.teleprompt.mipro_optimizer_v2: =========================\n",
      "\n",
      "\n",
      "2025/03/26 15:04:45 INFO dspy.teleprompt.mipro_optimizer_v2: ===== Trial 20 / 25 =====\n"
     ]
    },
    {
     "name": "stdout",
     "output_type": "stream",
     "text": [
      "\n",
      "Average Metric: 5.00 / 8 (62.5%): 100%|██████████| 8/8 [00:28<00:00,  3.62s/it]"
     ]
    },
    {
     "name": "stderr",
     "output_type": "stream",
     "text": [
      "2025/03/26 15:05:14 INFO dspy.evaluate.evaluate: Average Metric: 5.0 / 8 (62.5%)\n",
      "2025/03/26 15:05:14 INFO dspy.teleprompt.mipro_optimizer_v2: \u001b[92mBest full score so far!\u001b[0m Score: 62.5\n",
      "2025/03/26 15:05:14 INFO dspy.teleprompt.mipro_optimizer_v2: Score: 62.5 with parameters ['Predictor 0: Instruction 5', 'Predictor 0: Few-Shot Set 7', 'Predictor 1: Instruction 0', 'Predictor 1: Few-Shot Set 1'].\n",
      "2025/03/26 15:05:14 INFO dspy.teleprompt.mipro_optimizer_v2: Scores so far: [8.33, 20.83, 16.67, 29.17, 0.0, 54.17, 8.33, 29.17, 0.0, 37.5, 58.33, 54.17, 54.17, 29.17, 29.17, 54.17, 58.33, 20.83, 37.5, 62.5]\n",
      "2025/03/26 15:05:14 INFO dspy.teleprompt.mipro_optimizer_v2: Best score so far: 62.5\n",
      "2025/03/26 15:05:14 INFO dspy.teleprompt.mipro_optimizer_v2: =========================\n",
      "\n",
      "\n",
      "2025/03/26 15:05:14 INFO dspy.teleprompt.mipro_optimizer_v2: ===== Trial 21 / 25 =====\n"
     ]
    },
    {
     "name": "stdout",
     "output_type": "stream",
     "text": [
      "\n",
      "Average Metric: 5.00 / 8 (62.5%): 100%|██████████| 8/8 [00:00<00:00, 41.53it/s]"
     ]
    },
    {
     "name": "stderr",
     "output_type": "stream",
     "text": [
      "2025/03/26 15:05:14 INFO dspy.evaluate.evaluate: Average Metric: 5.0 / 8 (62.5%)\n",
      "2025/03/26 15:05:14 INFO dspy.teleprompt.mipro_optimizer_v2: Score: 62.5 with parameters ['Predictor 0: Instruction 5', 'Predictor 0: Few-Shot Set 2', 'Predictor 1: Instruction 0', 'Predictor 1: Few-Shot Set 8'].\n",
      "2025/03/26 15:05:14 INFO dspy.teleprompt.mipro_optimizer_v2: Scores so far: [8.33, 20.83, 16.67, 29.17, 0.0, 54.17, 8.33, 29.17, 0.0, 37.5, 58.33, 54.17, 54.17, 29.17, 29.17, 54.17, 58.33, 20.83, 37.5, 62.5, 62.5]\n",
      "2025/03/26 15:05:14 INFO dspy.teleprompt.mipro_optimizer_v2: Best score so far: 62.5\n",
      "2025/03/26 15:05:14 INFO dspy.teleprompt.mipro_optimizer_v2: =========================\n",
      "\n",
      "\n",
      "2025/03/26 15:05:14 INFO dspy.teleprompt.mipro_optimizer_v2: ===== Trial 22 / 25 =====\n"
     ]
    },
    {
     "name": "stdout",
     "output_type": "stream",
     "text": [
      "\n",
      "Average Metric: 0.00 / 8 (0.0%): 100%|██████████| 8/8 [00:43<00:00,  5.43s/it]"
     ]
    },
    {
     "name": "stderr",
     "output_type": "stream",
     "text": [
      "2025/03/26 15:05:58 INFO dspy.evaluate.evaluate: Average Metric: 0.0 / 8 (0.0%)\n",
      "2025/03/26 15:05:58 INFO dspy.teleprompt.mipro_optimizer_v2: Score: 0.0 with parameters ['Predictor 0: Instruction 5', 'Predictor 0: Few-Shot Set 1', 'Predictor 1: Instruction 4', 'Predictor 1: Few-Shot Set 8'].\n",
      "2025/03/26 15:05:58 INFO dspy.teleprompt.mipro_optimizer_v2: Scores so far: [8.33, 20.83, 16.67, 29.17, 0.0, 54.17, 8.33, 29.17, 0.0, 37.5, 58.33, 54.17, 54.17, 29.17, 29.17, 54.17, 58.33, 20.83, 37.5, 62.5, 62.5, 0.0]\n",
      "2025/03/26 15:05:58 INFO dspy.teleprompt.mipro_optimizer_v2: Best score so far: 62.5\n",
      "2025/03/26 15:05:58 INFO dspy.teleprompt.mipro_optimizer_v2: =========================\n",
      "\n",
      "\n",
      "2025/03/26 15:05:58 INFO dspy.teleprompt.mipro_optimizer_v2: ===== Trial 23 / 25 =====\n"
     ]
    },
    {
     "name": "stdout",
     "output_type": "stream",
     "text": [
      "\n",
      "Average Metric: 5.00 / 8 (62.5%): 100%|██████████| 8/8 [00:27<00:00,  3.47s/it]"
     ]
    },
    {
     "name": "stderr",
     "output_type": "stream",
     "text": [
      "2025/03/26 15:06:25 INFO dspy.evaluate.evaluate: Average Metric: 5.0 / 8 (62.5%)\n",
      "2025/03/26 15:06:25 INFO dspy.teleprompt.mipro_optimizer_v2: Score: 62.5 with parameters ['Predictor 0: Instruction 7', 'Predictor 0: Few-Shot Set 2', 'Predictor 1: Instruction 0', 'Predictor 1: Few-Shot Set 8'].\n",
      "2025/03/26 15:06:25 INFO dspy.teleprompt.mipro_optimizer_v2: Scores so far: [8.33, 20.83, 16.67, 29.17, 0.0, 54.17, 8.33, 29.17, 0.0, 37.5, 58.33, 54.17, 54.17, 29.17, 29.17, 54.17, 58.33, 20.83, 37.5, 62.5, 62.5, 0.0, 62.5]\n",
      "2025/03/26 15:06:25 INFO dspy.teleprompt.mipro_optimizer_v2: Best score so far: 62.5\n",
      "2025/03/26 15:06:25 INFO dspy.teleprompt.mipro_optimizer_v2: =========================\n",
      "\n",
      "\n",
      "2025/03/26 15:06:25 INFO dspy.teleprompt.mipro_optimizer_v2: ===== Trial 24 / 25 =====\n"
     ]
    },
    {
     "name": "stdout",
     "output_type": "stream",
     "text": [
      "\n",
      "Average Metric: 5.00 / 8 (62.5%): 100%|██████████| 8/8 [00:00<00:00, 41.73it/s]"
     ]
    },
    {
     "name": "stderr",
     "output_type": "stream",
     "text": [
      "2025/03/26 15:06:26 INFO dspy.evaluate.evaluate: Average Metric: 5.0 / 8 (62.5%)\n",
      "2025/03/26 15:06:26 INFO dspy.teleprompt.mipro_optimizer_v2: Score: 62.5 with parameters ['Predictor 0: Instruction 5', 'Predictor 0: Few-Shot Set 2', 'Predictor 1: Instruction 0', 'Predictor 1: Few-Shot Set 8'].\n",
      "2025/03/26 15:06:26 INFO dspy.teleprompt.mipro_optimizer_v2: Scores so far: [8.33, 20.83, 16.67, 29.17, 0.0, 54.17, 8.33, 29.17, 0.0, 37.5, 58.33, 54.17, 54.17, 29.17, 29.17, 54.17, 58.33, 20.83, 37.5, 62.5, 62.5, 0.0, 62.5, 62.5]\n",
      "2025/03/26 15:06:26 INFO dspy.teleprompt.mipro_optimizer_v2: Best score so far: 62.5\n",
      "2025/03/26 15:06:26 INFO dspy.teleprompt.mipro_optimizer_v2: =========================\n",
      "\n",
      "\n",
      "2025/03/26 15:06:26 INFO dspy.teleprompt.mipro_optimizer_v2: ===== Trial 25 / 25 =====\n"
     ]
    },
    {
     "name": "stdout",
     "output_type": "stream",
     "text": [
      "\n",
      "Average Metric: 4.67 / 8 (58.3%): 100%|██████████| 8/8 [00:24<00:00,  3.07s/it]"
     ]
    },
    {
     "name": "stderr",
     "output_type": "stream",
     "text": [
      "2025/03/26 15:06:50 INFO dspy.evaluate.evaluate: Average Metric: 4.666666666666666 / 8 (58.3%)\n",
      "2025/03/26 15:06:50 INFO dspy.teleprompt.mipro_optimizer_v2: Score: 58.33 with parameters ['Predictor 0: Instruction 7', 'Predictor 0: Few-Shot Set 2', 'Predictor 1: Instruction 0', 'Predictor 1: Few-Shot Set 2'].\n",
      "2025/03/26 15:06:50 INFO dspy.teleprompt.mipro_optimizer_v2: Scores so far: [8.33, 20.83, 16.67, 29.17, 0.0, 54.17, 8.33, 29.17, 0.0, 37.5, 58.33, 54.17, 54.17, 29.17, 29.17, 54.17, 58.33, 20.83, 37.5, 62.5, 62.5, 0.0, 62.5, 62.5, 58.33]\n",
      "2025/03/26 15:06:50 INFO dspy.teleprompt.mipro_optimizer_v2: Best score so far: 62.5\n",
      "2025/03/26 15:06:50 INFO dspy.teleprompt.mipro_optimizer_v2: =========================\n",
      "\n",
      "\n",
      "2025/03/26 15:06:50 INFO dspy.teleprompt.mipro_optimizer_v2: Returning best identified program with score 62.5!\n"
     ]
    },
    {
     "name": "stdout",
     "output_type": "stream",
     "text": [
      "\n"
     ]
    }
   ],
   "source": [
    "models = dict(prompt_model=gpt4o, teacher_settings=dict(lm=gpt4o))\n",
    "tp = dspy.MIPROv2(metric=top5_recall, auto=\"medium\", num_threads=16, **models)\n",
    "\n",
    "kwargs = dict(minibatch_size=40, minibatch_full_eval_steps=4, requires_permission_to_run=False)\n",
    "optimized = tp.compile(Hop(), trainset=trainset[:10], max_bootstrapped_demos=4, max_labeled_demos=4, **kwargs)\n"
   ]
  },
  {
   "cell_type": "markdown",
   "metadata": {},
   "source": [
    "## Evaluate the optimized agent"
   ]
  },
  {
   "cell_type": "code",
   "execution_count": null,
   "metadata": {},
   "outputs": [],
   "source": [
    "evaluate(optimized)"
   ]
  },
  {
   "cell_type": "code",
   "execution_count": 23,
   "metadata": {},
   "outputs": [],
   "source": [
    "optimized.save(\"optimized_hop_4o-mini.json\")"
   ]
  },
  {
   "cell_type": "markdown",
   "metadata": {},
   "source": [
    "# Fine-tune gpt-4o-mini from teacher program"
   ]
  },
  {
   "cell_type": "code",
   "execution_count": 27,
   "metadata": {},
   "outputs": [],
   "source": [
    "# Enable experimental features\n",
    "dspy.settings.experimental = True"
   ]
  },
  {
   "cell_type": "code",
   "execution_count": 31,
   "metadata": {},
   "outputs": [],
   "source": [
    "student_4o_mini = optimized.deepcopy()\n",
    "student_4o_mini.set_lm(gpt4o_mini)"
   ]
  },
  {
   "cell_type": "code",
   "execution_count": 28,
   "metadata": {},
   "outputs": [
    {
     "name": "stderr",
     "output_type": "stream",
     "text": [
      "2025/03/26 15:12:55 INFO dspy.teleprompt.bootstrap_finetune: Preparing the student and teacher programs...\n",
      "2025/03/26 15:12:55 INFO dspy.teleprompt.bootstrap_finetune: Bootstrapping data...\n"
     ]
    },
    {
     "name": "stdout",
     "output_type": "stream",
     "text": [
      "Average Metric: 7.00 / 10 (70.0%): 100%|██████████| 10/10 [00:00<00:00, 45.22it/s]"
     ]
    },
    {
     "name": "stderr",
     "output_type": "stream",
     "text": [
      "2025/03/26 15:12:55 INFO dspy.evaluate.evaluate: Average Metric: 7.0 / 10 (70.0%)\n",
      "2025/03/26 15:12:55 INFO dspy.teleprompt.bootstrap_finetune: Preparing the train data...\n",
      "2025/03/26 15:12:55 INFO dspy.teleprompt.bootstrap_finetune: Collected data for 10 examples\n",
      "2025/03/26 15:12:55 INFO dspy.teleprompt.bootstrap_finetune: After filtering with the metric, 10 examples remain\n",
      "2025/03/26 15:12:55 INFO dspy.teleprompt.bootstrap_finetune: Using 80 data points for fine-tuning the model: gpt-4o-mini-2024-07-18\n",
      "2025/03/26 15:12:55 INFO dspy.teleprompt.bootstrap_finetune: Starting LM fine-tuning...\n",
      "2025/03/26 15:12:55 INFO dspy.teleprompt.bootstrap_finetune: 1 fine-tuning job(s) to start\n",
      "2025/03/26 15:12:55 INFO dspy.teleprompt.bootstrap_finetune: Starting 1 fine-tuning job(s)...\n",
      "2025/03/26 15:12:55 INFO dspy.teleprompt.bootstrap_finetune: Calling lm.kill() on the LM to be fine-tuned to free up resources. This won't have any effect if the LM is not running.\n"
     ]
    },
    {
     "name": "stdout",
     "output_type": "stream",
     "text": [
      "\n",
      "[OpenAI Provider] Validating the data format\n",
      "[OpenAI Provider] Saving the data to a file\n",
      "[OpenAI Provider] Data saved to /Users/benediktstroebl/.dspy_cache/finetune/30276e0e4ead02e1.jsonl\n",
      "[OpenAI Provider] Uploading the data to the provider\n",
      "[OpenAI Provider] Starting remote training\n",
      "[OpenAI Provider] Job started with the OpenAI Job ID ftjob-BnWwwRUFUWPx1bSv4OWIU3aR\n",
      "[OpenAI Provider] Waiting for training to complete\n",
      "[OpenAI Provider] 2025-03-26 15:12:58 Validating training file: file-XvpoWpeKzciVQnofQzyzXy\n"
     ]
    }
   ],
   "source": [
    "optimizer = dspy.BootstrapFinetune(metric=top5_recall, num_threads=16)\n",
    "finetuned_4o_mini = optimizer.compile(student_4o_mini, teacher=optimized, trainset=trainset[:10])"
   ]
  },
  {
   "cell_type": "markdown",
   "metadata": {},
   "source": [
    "## Evaluate the finetuned agent"
   ]
  },
  {
   "cell_type": "code",
   "execution_count": null,
   "metadata": {},
   "outputs": [],
   "source": [
    "evaluate(finetuned_4o_mini)"
   ]
  },
  {
   "cell_type": "code",
   "execution_count": null,
   "metadata": {},
   "outputs": [],
   "source": [
    "finetuned_4o_mini.save('finetuned_4o_mini_001.pkl')"
   ]
  },
  {
   "cell_type": "markdown",
   "metadata": {},
   "source": [
    "## Example: Load the finetuned agent from file"
   ]
  },
  {
   "cell_type": "code",
   "execution_count": null,
   "metadata": {},
   "outputs": [],
   "source": [
    "loaded = Hop()\n",
    "loaded.load('finetuned_4o_mini_001.pkl')"
   ]
  }
 ],
 "metadata": {
  "kernelspec": {
   "display_name": "dspy",
   "language": "python",
   "name": "python3"
  },
  "language_info": {
   "codemirror_mode": {
    "name": "ipython",
    "version": 3
   },
   "file_extension": ".py",
   "mimetype": "text/x-python",
   "name": "python",
   "nbconvert_exporter": "python",
   "pygments_lexer": "ipython3",
   "version": "3.11.11"
  }
 },
 "nbformat": 4,
 "nbformat_minor": 2
}
